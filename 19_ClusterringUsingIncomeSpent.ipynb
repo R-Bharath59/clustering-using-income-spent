{
 "cells": [
  {
   "cell_type": "markdown",
   "metadata": {
    "id": "r3cas2_1T98w"
   },
   "source": [
    "#19 Clusterring Using Income Spent"
   ]
  },
  {
   "cell_type": "markdown",
   "metadata": {
    "id": "IODliia6U1xO"
   },
   "source": [
    "## Importing the basic libraries"
   ]
  },
  {
   "cell_type": "code",
   "execution_count": 1,
   "metadata": {
    "id": "y98nA5UdU6Hf"
   },
   "outputs": [],
   "source": [
    "import pandas as pd\n",
    "import numpy as np\n",
    "import matplotlib.pyplot as plt"
   ]
  },
  {
   "cell_type": "markdown",
   "metadata": {
    "id": "2hRC6YEod9_8"
   },
   "source": [
    "### Load Dataset from Local Directory"
   ]
  },
  {
   "cell_type": "code",
   "execution_count": null,
   "metadata": {
    "id": "tZBTr4JHeAzb"
   },
   "outputs": [],
   "source": [
    "# from google.colab import files\n",
    "# uploaded = files.upload()"
   ]
  },
  {
   "cell_type": "markdown",
   "metadata": {
    "id": "jpjZ43YlU8eI"
   },
   "source": [
    "## Importing the dataset"
   ]
  },
  {
   "cell_type": "code",
   "execution_count": 2,
   "metadata": {
    "id": "pLVaXoYVU_Uy"
   },
   "outputs": [],
   "source": [
    "dataset = pd.read_csv('dataset.csv')"
   ]
  },
  {
   "cell_type": "markdown",
   "metadata": {
    "id": "INGdqI-BQpbL"
   },
   "source": [
    "### Summarize Dataset"
   ]
  },
  {
   "cell_type": "code",
   "execution_count": 3,
   "metadata": {
    "id": "q4vNcNRIQtjr"
   },
   "outputs": [
    {
     "name": "stdout",
     "output_type": "stream",
     "text": [
      "(303, 2)\n",
      "           INCOME       SPEND\n",
      "count  303.000000  303.000000\n",
      "mean   245.273927  149.646865\n",
      "std     48.499412   22.905161\n",
      "min    126.000000   71.000000\n",
      "25%    211.000000  133.500000\n",
      "50%    240.000000  153.000000\n",
      "75%    274.000000  166.000000\n",
      "max    417.000000  202.000000\n",
      "   INCOME  SPEND\n",
      "0     233    150\n",
      "1     250    187\n",
      "2     204    172\n",
      "3     236    178\n",
      "4     354    163\n"
     ]
    }
   ],
   "source": [
    "print(dataset.shape)\n",
    "print(dataset.describe())\n",
    "print(dataset.head(5))"
   ]
  },
  {
   "cell_type": "markdown",
   "metadata": {
    "id": "zoIEOorVTzD9"
   },
   "source": [
    "### Segregate & Zipping Dataset"
   ]
  },
  {
   "cell_type": "code",
   "execution_count": 4,
   "metadata": {
    "id": "wOuthXLlT0GI"
   },
   "outputs": [
    {
     "data": {
      "text/plain": [
       "array([[233, 150],\n",
       "       [250, 187],\n",
       "       [204, 172],\n",
       "       [236, 178],\n",
       "       [354, 163],\n",
       "       [192, 148],\n",
       "       [294, 153],\n",
       "       [263, 173],\n",
       "       [199, 162],\n",
       "       [168, 174],\n",
       "       [239, 160],\n",
       "       [275, 139],\n",
       "       [266, 171],\n",
       "       [211, 144],\n",
       "       [283, 162],\n",
       "       [219, 158],\n",
       "       [340, 172],\n",
       "       [226, 114],\n",
       "       [247, 171],\n",
       "       [239, 151],\n",
       "       [234, 161],\n",
       "       [233, 179],\n",
       "       [226, 178],\n",
       "       [243, 137],\n",
       "       [199, 178],\n",
       "       [302, 162],\n",
       "       [212, 157],\n",
       "       [175, 123],\n",
       "       [417, 157],\n",
       "       [197, 152],\n",
       "       [198, 168],\n",
       "       [177, 140],\n",
       "       [219, 188],\n",
       "       [273, 152],\n",
       "       [213, 125],\n",
       "       [177, 160],\n",
       "       [304, 170],\n",
       "       [232, 165],\n",
       "       [269, 148],\n",
       "       [360, 151],\n",
       "       [308, 142],\n",
       "       [245, 180],\n",
       "       [208, 148],\n",
       "       [264, 143],\n",
       "       [321, 182],\n",
       "       [325, 172],\n",
       "       [235, 180],\n",
       "       [257, 156],\n",
       "       [216, 115],\n",
       "       [234, 160],\n",
       "       [256, 149],\n",
       "       [302, 151],\n",
       "       [231, 146],\n",
       "       [141, 175],\n",
       "       [252, 172],\n",
       "       [201, 158],\n",
       "       [222, 186],\n",
       "       [260, 185],\n",
       "       [182, 174],\n",
       "       [303, 159],\n",
       "       [265, 130],\n",
       "       [309, 156],\n",
       "       [186, 190],\n",
       "       [203, 132],\n",
       "       [211, 165],\n",
       "       [183, 182],\n",
       "       [222, 143],\n",
       "       [234, 175],\n",
       "       [220, 170],\n",
       "       [209, 163],\n",
       "       [258, 147],\n",
       "       [227, 154],\n",
       "       [204, 202],\n",
       "       [261, 186],\n",
       "       [213, 165],\n",
       "       [250, 161],\n",
       "       [245, 166],\n",
       "       [221, 164],\n",
       "       [205, 184],\n",
       "       [240, 154],\n",
       "       [250, 179],\n",
       "       [308, 170],\n",
       "       [318, 160],\n",
       "       [298, 178],\n",
       "       [265, 122],\n",
       "       [264, 160],\n",
       "       [277, 151],\n",
       "       [197, 156],\n",
       "       [214, 158],\n",
       "       [248, 122],\n",
       "       [255, 175],\n",
       "       [207, 168],\n",
       "       [223, 169],\n",
       "       [288, 159],\n",
       "       [160, 138],\n",
       "       [226, 111],\n",
       "       [394, 157],\n",
       "       [233, 147],\n",
       "       [315, 162],\n",
       "       [246, 173],\n",
       "       [244, 178],\n",
       "       [270, 145],\n",
       "       [195, 179],\n",
       "       [240, 194],\n",
       "       [196, 163],\n",
       "       [211, 115],\n",
       "       [234, 131],\n",
       "       [236, 152],\n",
       "       [244, 162],\n",
       "       [254, 159],\n",
       "       [325, 154],\n",
       "       [126, 173],\n",
       "       [313, 133],\n",
       "       [211, 161],\n",
       "       [262, 155],\n",
       "       [215, 170],\n",
       "       [214, 168],\n",
       "       [193, 162],\n",
       "       [204, 172],\n",
       "       [243, 152],\n",
       "       [303, 122],\n",
       "       [271, 182],\n",
       "       [268, 172],\n",
       "       [267, 167],\n",
       "       [199, 179],\n",
       "       [210, 192],\n",
       "       [204, 143],\n",
       "       [277, 172],\n",
       "       [196, 169],\n",
       "       [269, 121],\n",
       "       [201, 163],\n",
       "       [271, 162],\n",
       "       [295, 162],\n",
       "       [235, 153],\n",
       "       [306, 163],\n",
       "       [269, 163],\n",
       "       [178,  96],\n",
       "       [208, 140],\n",
       "       [201, 126],\n",
       "       [263, 105],\n",
       "       [295, 157],\n",
       "       [303, 181],\n",
       "       [209, 173],\n",
       "       [223, 142],\n",
       "       [197, 116],\n",
       "       [245, 143],\n",
       "       [242, 149],\n",
       "       [240, 171],\n",
       "       [226, 169],\n",
       "       [180, 150],\n",
       "       [228, 138],\n",
       "       [149, 125],\n",
       "       [227, 155],\n",
       "       [278, 152],\n",
       "       [220, 152],\n",
       "       [197, 131],\n",
       "       [253, 179],\n",
       "       [192, 174],\n",
       "       [220, 144],\n",
       "       [221, 163],\n",
       "       [240, 169],\n",
       "       [342, 166],\n",
       "       [157, 182],\n",
       "       [175, 173],\n",
       "       [175, 173],\n",
       "       [286, 108],\n",
       "       [229, 129],\n",
       "       [268, 160],\n",
       "       [254, 147],\n",
       "       [203, 155],\n",
       "       [256, 142],\n",
       "       [229, 168],\n",
       "       [284, 160],\n",
       "       [224, 173],\n",
       "       [206, 132],\n",
       "       [167, 114],\n",
       "       [230, 160],\n",
       "       [335, 158],\n",
       "       [177, 120],\n",
       "       [276, 112],\n",
       "       [353, 132],\n",
       "       [225, 114],\n",
       "       [330, 169],\n",
       "       [230, 165],\n",
       "       [243, 128],\n",
       "       [290, 153],\n",
       "       [253, 144],\n",
       "       [266, 109],\n",
       "       [233, 163],\n",
       "       [172, 158],\n",
       "       [305, 142],\n",
       "       [216, 131],\n",
       "       [188, 113],\n",
       "       [282, 142],\n",
       "       [185, 155],\n",
       "       [326, 140],\n",
       "       [231, 147],\n",
       "       [254, 163],\n",
       "       [267,  99],\n",
       "       [248, 158],\n",
       "       [197, 177],\n",
       "       [258, 141],\n",
       "       [270, 111],\n",
       "       [274, 150],\n",
       "       [164, 145],\n",
       "       [255, 161],\n",
       "       [239, 142],\n",
       "       [258, 157],\n",
       "       [188, 139],\n",
       "       [177, 162],\n",
       "       [229, 150],\n",
       "       [260, 140],\n",
       "       [219, 140],\n",
       "       [307, 146],\n",
       "       [249, 144],\n",
       "       [341, 136],\n",
       "       [263,  97],\n",
       "       [330, 132],\n",
       "       [254, 127],\n",
       "       [256, 150],\n",
       "       [407, 154],\n",
       "       [217, 111],\n",
       "       [282, 174],\n",
       "       [288, 133],\n",
       "       [239, 126],\n",
       "       [174, 125],\n",
       "       [281, 103],\n",
       "       [198, 130],\n",
       "       [288, 159],\n",
       "       [309, 131],\n",
       "       [243, 152],\n",
       "       [289, 124],\n",
       "       [289, 145],\n",
       "       [246,  96],\n",
       "       [322, 109],\n",
       "       [299, 173],\n",
       "       [300, 171],\n",
       "       [293, 170],\n",
       "       [304, 162],\n",
       "       [282, 156],\n",
       "       [269, 112],\n",
       "       [249, 143],\n",
       "       [212, 132],\n",
       "       [274,  88],\n",
       "       [184, 105],\n",
       "       [274, 166],\n",
       "       [409, 150],\n",
       "       [246, 120],\n",
       "       [283, 195],\n",
       "       [254, 146],\n",
       "       [298, 122],\n",
       "       [247, 143],\n",
       "       [294, 106],\n",
       "       [299, 125],\n",
       "       [273, 125],\n",
       "       [309, 147],\n",
       "       [259, 130],\n",
       "       [200, 126],\n",
       "       [244, 154],\n",
       "       [231, 182],\n",
       "       [228, 165],\n",
       "       [230, 160],\n",
       "       [282,  95],\n",
       "       [269, 169],\n",
       "       [206, 108],\n",
       "       [212, 132],\n",
       "       [327, 117],\n",
       "       [149, 126],\n",
       "       [286, 116],\n",
       "       [283, 103],\n",
       "       [249, 144],\n",
       "       [234, 145],\n",
       "       [237,  71],\n",
       "       [234, 156],\n",
       "       [275, 118],\n",
       "       [212, 168],\n",
       "       [218, 105],\n",
       "       [261, 141],\n",
       "       [319, 152],\n",
       "       [166, 125],\n",
       "       [315, 125],\n",
       "       [204, 156],\n",
       "       [218, 134],\n",
       "       [223, 181],\n",
       "       [207, 138],\n",
       "       [311, 120],\n",
       "       [204, 162],\n",
       "       [232, 164],\n",
       "       [335, 143],\n",
       "       [205, 130],\n",
       "       [203, 161],\n",
       "       [318, 140],\n",
       "       [225, 146],\n",
       "       [212, 150],\n",
       "       [169, 144],\n",
       "       [187, 144],\n",
       "       [197, 136],\n",
       "       [176,  90],\n",
       "       [241, 123],\n",
       "       [264, 132],\n",
       "       [193, 141],\n",
       "       [131, 115],\n",
       "       [236, 174]])"
      ]
     },
     "execution_count": 4,
     "metadata": {},
     "output_type": "execute_result"
    }
   ],
   "source": [
    "Income = dataset['INCOME'].values\n",
    "Spend = dataset['SPEND'].values\n",
    "X = np.array(list(zip(Income, Spend)))\n",
    "X"
   ]
  },
  {
   "cell_type": "markdown",
   "metadata": {
    "id": "uz5ynI4FR734"
   },
   "source": [
    "### Finding the Optimized K Value"
   ]
  },
  {
   "cell_type": "code",
   "execution_count": 5,
   "metadata": {
    "id": "2PuOMjABSCXw"
   },
   "outputs": [
    {
     "name": "stderr",
     "output_type": "stream",
     "text": [
      "/Users/anaconda3/lib/python3.11/site-packages/sklearn/cluster/_kmeans.py:1412: FutureWarning: The default value of `n_init` will change from 10 to 'auto' in 1.4. Set the value of `n_init` explicitly to suppress the warning\n",
      "  super()._check_params_vs_input(X, default_n_init=10)\n",
      "/Users/anaconda3/lib/python3.11/site-packages/sklearn/cluster/_kmeans.py:1412: FutureWarning: The default value of `n_init` will change from 10 to 'auto' in 1.4. Set the value of `n_init` explicitly to suppress the warning\n",
      "  super()._check_params_vs_input(X, default_n_init=10)\n",
      "/Users/anaconda3/lib/python3.11/site-packages/sklearn/cluster/_kmeans.py:1412: FutureWarning: The default value of `n_init` will change from 10 to 'auto' in 1.4. Set the value of `n_init` explicitly to suppress the warning\n",
      "  super()._check_params_vs_input(X, default_n_init=10)\n",
      "/Users/anaconda3/lib/python3.11/site-packages/sklearn/cluster/_kmeans.py:1412: FutureWarning: The default value of `n_init` will change from 10 to 'auto' in 1.4. Set the value of `n_init` explicitly to suppress the warning\n",
      "  super()._check_params_vs_input(X, default_n_init=10)\n",
      "/Users/anaconda3/lib/python3.11/site-packages/sklearn/cluster/_kmeans.py:1412: FutureWarning: The default value of `n_init` will change from 10 to 'auto' in 1.4. Set the value of `n_init` explicitly to suppress the warning\n",
      "  super()._check_params_vs_input(X, default_n_init=10)\n",
      "/Users/anaconda3/lib/python3.11/site-packages/sklearn/cluster/_kmeans.py:1412: FutureWarning: The default value of `n_init` will change from 10 to 'auto' in 1.4. Set the value of `n_init` explicitly to suppress the warning\n",
      "  super()._check_params_vs_input(X, default_n_init=10)\n",
      "/Users/anaconda3/lib/python3.11/site-packages/sklearn/cluster/_kmeans.py:1412: FutureWarning: The default value of `n_init` will change from 10 to 'auto' in 1.4. Set the value of `n_init` explicitly to suppress the warning\n",
      "  super()._check_params_vs_input(X, default_n_init=10)\n",
      "/Users/anaconda3/lib/python3.11/site-packages/sklearn/cluster/_kmeans.py:1412: FutureWarning: The default value of `n_init` will change from 10 to 'auto' in 1.4. Set the value of `n_init` explicitly to suppress the warning\n",
      "  super()._check_params_vs_input(X, default_n_init=10)\n",
      "/Users/anaconda3/lib/python3.11/site-packages/sklearn/cluster/_kmeans.py:1412: FutureWarning: The default value of `n_init` will change from 10 to 'auto' in 1.4. Set the value of `n_init` explicitly to suppress the warning\n",
      "  super()._check_params_vs_input(X, default_n_init=10)\n",
      "/Users/anaconda3/lib/python3.11/site-packages/sklearn/cluster/_kmeans.py:1412: FutureWarning: The default value of `n_init` will change from 10 to 'auto' in 1.4. Set the value of `n_init` explicitly to suppress the warning\n",
      "  super()._check_params_vs_input(X, default_n_init=10)\n"
     ]
    },
    {
     "data": {
      "image/png": "[encoded data removed]",
      "text/plain": [
       "<Figure size 640x480 with 1 Axes>"
      ]
     },
     "metadata": {},
     "output_type": "display_data"
    }
   ],
   "source": [
    "from sklearn.cluster import KMeans\n",
    "wcss = []\n",
    "for i in range(1,11):\n",
    "    km=KMeans(n_clusters=i, random_state=0)\n",
    "    km.fit(X)\n",
    "    wcss.append(km.inertia_)\n",
    "plt.plot(range(1,11),wcss,color=\"red\", marker =\"8\")\n",
    "plt.title('Optimal K Value')\n",
    "plt.xlabel('Number of clusters')\n",
    "plt.ylabel('WCSS')\n",
    "plt.show()"
   ]
  },
  {
   "cell_type": "markdown",
   "metadata": {
    "id": "58ZB1rCZUVfH"
   },
   "source": [
    "### Fitting the k-means to the dataset with k=4"
   ]
  },
  {
   "cell_type": "code",
   "execution_count": 6,
   "metadata": {
    "id": "0K7mijvHUW6Z"
   },
   "outputs": [
    {
     "name": "stderr",
     "output_type": "stream",
     "text": [
      "/Users/anaconda3/lib/python3.11/site-packages/sklearn/cluster/_kmeans.py:1412: FutureWarning: The default value of `n_init` will change from 10 to 'auto' in 1.4. Set the value of `n_init` explicitly to suppress the warning\n",
      "  super()._check_params_vs_input(X, default_n_init=10)\n"
     ]
    }
   ],
   "source": [
    "model=KMeans(n_clusters=4, random_state=0)\n",
    "y_means = model.fit_predict(X)"
   ]
  },
  {
   "cell_type": "markdown",
   "metadata": {
    "id": "rTMd_brsUctX"
   },
   "source": [
    "### Visualizing the clusters for k=4\n",
    "\n",
    "Cluster 1: Customers with medium income and low spend\n",
    "\n",
    "Cluster 2: Customers with high income and medium to high spend\n",
    "\n",
    "Cluster 3: Customers with low income\n",
    "\n",
    "Cluster 4: Customers with medium income but high spend"
   ]
  },
  {
   "cell_type": "code",
   "execution_count": 9,
   "metadata": {
    "id": "PXDHbM4aUdvc"
   },
   "outputs": [
    {
     "data": {
      "image/png": "[encoded data removed]",
      "text/plain": [
       "<Figure size 640x480 with 1 Axes>"
      ]
     },
     "metadata": {},
     "output_type": "display_data"
    }
   ],
   "source": [
    "plt.scatter(X[y_means==0,0],X[y_means==0,1],s=50, c='red',label='1')\n",
    "plt.scatter(X[y_means==1,0],X[y_means==1,1],s=50, c='blue',label='2')\n",
    "plt.scatter(X[y_means==2,0],X[y_means==2,1],s=50, c='green',label='3')\n",
    "plt.scatter(X[y_means==3,0],X[y_means==3,1],s=50, c='yellow',label='4')\n",
    "plt.scatter(model.cluster_centers_[:,0], model.cluster_centers_[:,1],s=100,marker='s', c='purple', label='Centroids')\n",
    "plt.title('Income Spent Analysis')\n",
    "plt.xlabel('Income')\n",
    "plt.ylabel('Spent')\n",
    "plt.legend()\n",
    "plt.show()"
   ]
  }
 ],
 "metadata": {
  "colab": {
   "collapsed_sections": [],
   "name": "19_ClusterringUsingIncomeSpent.ipynb",
   "provenance": []
  },
  "kernelspec": {
   "display_name": "Python 3 (ipykernel)",
   "language": "python",
   "name": "python3"
  },
  "language_info": {
   "codemirror_mode": {
    "name": "ipython",
    "version": 3
   },
   "file_extension": ".py",
   "mimetype": "text/x-python",
   "name": "python",
   "nbconvert_exporter": "python",
   "pygments_lexer": "ipython3",
   "version": "3.11.4"
  }
 },
 "nbformat": 4,
 "nbformat_minor": 1
}
